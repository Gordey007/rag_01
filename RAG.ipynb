{
 "cells": [
  {
   "metadata": {},
   "cell_type": "markdown",
   "source": "# 0. Импорт",
   "id": "81f3915ded6080e5"
  },
  {
   "metadata": {
    "ExecuteTime": {
     "end_time": "2025-03-28T15:03:47.245815Z",
     "start_time": "2025-03-28T15:03:47.221215Z"
    }
   },
   "cell_type": "code",
   "source": [
    "import gc\n",
    "\n",
    "import warnings\n",
    "\n",
    "warnings.filterwarnings(\"ignore\")"
   ],
   "id": "965730d84897e521",
   "outputs": [],
   "execution_count": 1
  },
  {
   "metadata": {
    "ExecuteTime": {
     "end_time": "2025-03-28T15:04:03.996761Z",
     "start_time": "2025-03-28T15:03:47.321300Z"
    }
   },
   "cell_type": "code",
   "source": [
    "import os\n",
    "from dotenv import load_dotenv\n",
    "\n",
    "import torch\n",
    "\n",
    "from transformers import BitsAndBytesConfig, AutoModelForCausalLM, AutoTokenizer, pipeline\n",
    "\n",
    "from langchain_community.vectorstores import Clickhouse, ClickhouseSettings\n",
    "from langchain_community.embeddings import HuggingFaceEmbeddings\n",
    "from langchain.llms import HuggingFacePipeline\n",
    "from langchain_core.messages import HumanMessage"
   ],
   "id": "c010e572dd240f6e",
   "outputs": [],
   "execution_count": 2
  },
  {
   "metadata": {
    "ExecuteTime": {
     "end_time": "2025-03-28T15:04:04.542570Z",
     "start_time": "2025-03-28T15:04:04.529848Z"
    }
   },
   "cell_type": "code",
   "source": [
    "# Загрузка .env в окружение\n",
    "load_dotenv()\n",
    "\n",
    "DB_HOST = os.getenv(\"DB_HOST\")\n",
    "DB_PORT = int(os.getenv(\"DB_PORT\"))\n",
    "DB_USER = os.getenv(\"DB_USER\")\n",
    "DB_PASS = os.getenv(\"DB_PASS\")\n",
    "DB_NAME = os.getenv(\"DB_NAME\")"
   ],
   "id": "50daa3208eeef6ce",
   "outputs": [],
   "execution_count": 3
  },
  {
   "metadata": {},
   "cell_type": "markdown",
   "source": "# 1. Подключение к векторному хранилищу (ClickHouse)",
   "id": "b2b7ca8834b6dfb1"
  },
  {
   "metadata": {
    "ExecuteTime": {
     "end_time": "2025-03-28T15:04:24.501319Z",
     "start_time": "2025-03-28T15:04:04.562460Z"
    }
   },
   "cell_type": "code",
   "source": [
    "# Модель 4 эмбеддингов\n",
    "embedding_model = HuggingFaceEmbeddings(\n",
    "    model_name=\"sentence-transformers/paraphrase-multilingual-mpnet-base-v2\",\n",
    "    model_kwargs={'device': 'cpu'},\n",
    "    encode_kwargs={'normalize_embeddings': True},\n",
    ")\n",
    "\n",
    "# 4 L2Distance добавить \"SET allow_experimental_usearch_index=1 в if self.config.index_type: или index_type=\"usearch\",\n",
    "clickhouse_settings = ClickhouseSettings(\n",
    "    host=DB_HOST,\n",
    "    port=DB_PORT,\n",
    "    username=DB_USER,\n",
    "    password=DB_PASS,\n",
    "    database=DB_NAME,\n",
    "    table=\"hac_and_rsci_publications2\",\n",
    "    index_type=\"usearch\",\n",
    "    metric=\"euclidean\",\n",
    "    # n_trees=100\n",
    ")\n",
    "\n",
    "vector_store = Clickhouse(\n",
    "    embedding=embedding_model,\n",
    "    config=clickhouse_settings\n",
    ")\n",
    "\n",
    "\n",
    "def format_docs(_docs):\n",
    "    \"\"\"Функция для слияния чанков\"\"\"\n",
    "    i = 1\n",
    "    s = \"\"\n",
    "\n",
    "    for doc in _docs:\n",
    "        s = s + f\"Документ {i}:\\n\" + doc.page_content + \"\\n\\n\"\n",
    "        i = i + 1\n",
    "\n",
    "    return s"
   ],
   "id": "5eabb333988ddfc7",
   "outputs": [
    {
     "name": "stderr",
     "output_type": "stream",
     "text": [
      "C:\\Users\\gorde\\AppData\\Local\\Temp\\ipykernel_31216\\2793177234.py:2: LangChainDeprecationWarning: The class `HuggingFaceEmbeddings` was deprecated in LangChain 0.2.2 and will be removed in 1.0. An updated version of the class exists in the :class:`~langchain-huggingface package and should be used instead. To use it run `pip install -U :class:`~langchain-huggingface` and import as `from :class:`~langchain_huggingface import HuggingFaceEmbeddings``.\n",
      "  embedding_model = HuggingFaceEmbeddings(\n"
     ]
    }
   ],
   "execution_count": 4
  },
  {
   "metadata": {
    "ExecuteTime": {
     "end_time": "2025-03-28T15:04:24.576924Z",
     "start_time": "2025-03-28T15:04:24.551351Z"
    }
   },
   "cell_type": "code",
   "source": [
    "from typing import List\n",
    "from langchain_core.documents import Document\n",
    "from langchain_core.runnables import chain\n",
    "\n",
    "\n",
    "@chain\n",
    "def retriever(input: dict) -> List[Document]:\n",
    "    \"\"\"\n",
    "    Функция для получения документов (чанков) из векторного хранилища и\n",
    "    добавление его score в метаданные\n",
    "    \"\"\"\n",
    "    query = input[\"query\"]\n",
    "    k = input.get(\"k\", 10)\n",
    "    where_str = input.get(\"where_str\", None)\n",
    "    _docs, scores = zip(*vector_store.similarity_search_with_relevance_scores(\n",
    "        query=query,\n",
    "        k=k,\n",
    "        where_str=where_str,\n",
    "    ))\n",
    "\n",
    "    for doc, score in zip(_docs, scores):\n",
    "        doc.metadata[\"score\"] = score\n",
    "\n",
    "    return _docs"
   ],
   "id": "2dbdc55ca2b0ff28",
   "outputs": [],
   "execution_count": 5
  },
  {
   "metadata": {
    "ExecuteTime": {
     "end_time": "2025-03-23T14:46:58.340759Z",
     "start_time": "2025-03-23T14:46:58.234440Z"
    }
   },
   "cell_type": "code",
   "source": [
    "docs = retriever.invoke({\"query\": \"Что такое Akka\", \"k\": 15})\n",
    "docs"
   ],
   "id": "83289e3e387d776a",
   "outputs": [
    {
     "data": {
      "text/plain": [
       "(Document(metadata={'category': 'Scala', 'docid': 1226679076, 'keywords': ['parallelism', 'fault tolerance'], 'page': '1', 'tech_stack': ['Scala', 'Akka'], 'title': 'Параллелизм и отказоустойчивость в обработки больших данных', 'score': 0.9152610000145984}, page_content='для решений данных проблем,связанных со временем,можно использовать akka, akka, это набор инструментов для создания параллельных, распределенных и отказоустойчивых приложений, управляемых сообщениями, для java и scala. подход akka к обработке параллелизма основан на модели actor.'),\n",
       " Document(metadata={'category': 'Scala', 'docid': 793881656, 'keywords': ['parallelism', 'fault tolerance'], 'page': '2', 'tech_stack': ['Scala', 'Akka'], 'title': 'Параллелизм и отказоустойчивость в обработки больших данных', 'score': 1.1544608214396033}, page_content='а его среда выполнения JVM позволяет создавать  высокопроизводительные системы с легким доступом к огромным экосистемам библиотек. Далее для примера использования akka будет решена задача подсчета количества слов в строке.'),\n",
       " Document(metadata={'category': 'Scala', 'docid': 1668560240, 'keywords': ['parallelism', 'fault tolerance'], 'page': '1', 'tech_stack': ['Scala', 'Akka'], 'title': 'Параллелизм и отказоустойчивость в обработки больших данных', 'score': 1.2297824685719305}, page_content='В системе, основанной на actor, все является actor почти так же, как все является объектом в объектно ориентированном дизайне.'),\n",
       " Document(metadata={'category': 'Big Data', 'docid': 971190525, 'keywords': ['Big Data', 'analysis', 'Map Reduce'], 'page': '2', 'tech_stack': ['Scala'], 'title': 'Применение программной модели Map/Reduce в анализе больших данных в области медицины', 'score': 1.265869068090582}, page_content='списка и промежуточный результат. Обычно данные хранятся в формате ключ-значение. key value, это парадигма хранения данных, предназначенная для хранения, извлечения и управления ассоциативными массивами, структура данных.'),\n",
       " Document(metadata={'category': 'NoSQL', 'docid': 2441853094, 'keywords': ['DBMS', 'NoSQL', 'MongoDB', 'Big Data'], 'page': '1', 'tech_stack': ['MongoDB'], 'title': 'Эффективное  хранение больших  данных о  погоде  в формате JSON c помощью NoSQL базы данных MongoDB', 'score': 1.2908434640863837}, page_content='климат, это погода региона в течение длительного периода времени. Климатические данные охватывают такие данные, как средние сезонные температуры или характер осадков, и способствуют прогнозированию погоды. отсюда появляется востребованность в хранении исторических данных о погоде.'),\n",
       " Document(metadata={'category': 'Scala', 'docid': 1099315933, 'keywords': ['parallelism', 'fault tolerance'], 'page': '2', 'tech_stack': ['Scala', 'Akka'], 'title': 'Параллелизм и отказоустойчивость в обработки больших данных', 'score': 1.2970643700385398}, page_content='d частности, в системе actor в scala, actors взаимодействуют и обмениваются информацией без каких-либо предпосылок последовательности. Механизм, с помощью которого субъекты обмениваются информацией друг с другом и ставят задачи друг другу, это передача сообщений.'),\n",
       " Document(metadata={'category': 'Big Data', 'docid': 1633523846, 'keywords': ['Big Data', 'analysis', 'Map Reduce'], 'page': '2', 'tech_stack': ['Scala'], 'title': 'Применение программной модели Map/Reduce в анализе больших данных в области медицины', 'score': 1.306181118423343}, page_content='рассмотрим пример применения парадигмы map/reduce к данной форме. для реализации был выбран функциональный язык программирования scala. представим, что 4 пользователей портала, оставили следующие комментарии после вакцинации.'),\n",
       " Document(metadata={'category': 'Scala', 'docid': 3242015362, 'keywords': ['parallelism', 'fault tolerance'], 'page': '2', 'tech_stack': ['Scala', 'Akka'], 'title': 'Параллелизм и отказоустойчивость в обработки больших данных', 'score': 1.3062246058771445}, page_content='для решения данной задачи можно создать корневой actor и дочерний actor. корневой actor читает файл, и по мере загрузки каждой строки из файла создается дочерний объект, и ему передается сообщение, содержащее строку, которая должна быть обработана, далее корневой actor получает результат от дочернего.'),\n",
       " Document(metadata={'category': 'NoSQL', 'docid': 1298917394, 'keywords': ['DBMS', 'NoSQL', 'MongoDB', 'Big Data'], 'page': '2', 'tech_stack': ['MongoDB'], 'title': 'Эффективное  хранение больших  данных о  погоде  в формате JSON c помощью NoSQL базы данных MongoDB', 'score': 1.3130291333358222}, page_content='в ответе от api содержится следующая информация: температура воздуха, осадки, атмосферное давление и т. п. также важно понимать, что, если в данный момент не идет дождь или снег, то данных о количестве осадков не будет. Таким образом, данные являются полуструктурированными.'),\n",
       " Document(metadata={'category': 'Scala', 'docid': 2825019517, 'keywords': ['parallelism', 'fault tolerance'], 'page': '2', 'tech_stack': ['Scala', 'Akka'], 'title': 'Параллелизм и отказоустойчивость в обработки больших данных', 'score': 1.3181037462278915}, page_content='scala объединяет объектно-ориентированное и функциональное программирование на одном кратком языке высокого уровня. статические типы Scala помогают избежать ошибок в сложных приложениях'),\n",
       " Document(metadata={'category': 'Big Data', 'docid': 2492059849, 'keywords': ['DBMS', 'Big Data', 'Hive'], 'page': '2', 'tech_stack': ['Hive'], 'title': 'Оптимизированное хранение больших данных с помощью Apache Hive', 'score': 1.320248511666749}, page_content='теорема cap, это теорема о распределенных вычислительных системах. исходная формулировка теоремы эрика брюера гласит, что компьютерная система может в лучшем случае обеспечить два из трех свойств из следующего списка.'),\n",
       " Document(metadata={'category': 'NN', 'docid': 1414567875, 'keywords': ['computer vision'], 'page': '2', 'tech_stack': ['Python'], 'title': '«Определение жизни» с помощью машинного зрения', 'score': 1.3257382875757038}, page_content='детектор лицевых ориентиров, который реализован внутри dlib, выдает 68 точек, которые отображаются на конкретных областях лица. Эти точечные отображения были получены путем обучения предиктора на наборе данных iBUG 300-W.'),\n",
       " Document(metadata={'category': 'NN', 'docid': 2264669975, 'keywords': ['computer vision'], 'page': '1', 'tech_stack': ['Python'], 'title': '«Определение жизни» с помощью машинного зрения', 'score': 1.3267966871671832}, page_content='с использованием компьютерного зрения можно реализовать программное обеспечение, которое будет фиксировать моргание. Данное программное обеспечение можно использовать для дополнительного этапа защиты перед распознаванием лица, таким образом можно отличить снимок от настоящего человека.'),\n",
       " Document(metadata={'category': 'NN', 'docid': 1311383742, 'keywords': ['computer vision'], 'page': '1', 'tech_stack': ['Python'], 'title': '«Определение жизни» с помощью машинного зрения', 'score': 1.3303410643063596}, page_content='области применения компьютерного зрения: медицина, охранные системы, мультимедиа приложения, расширенная реальность, системы распознавания рукописного и печатного текста, промышленность.'),\n",
       " Document(metadata={'category': 'NoSQL', 'docid': 1330343948, 'keywords': ['DBMS', 'NoSQL', 'MongoDB', 'Big Data'], 'page': '3', 'tech_stack': ['MongoDB'], 'title': 'Эффективное  хранение больших  данных о  погоде  в формате JSON c помощью NoSQL базы данных MongoDB', 'score': 1.3348042873451251}, page_content='например, данные об осадках в виде снега или дождя будут отсутствовать, если в данный момент не наблюдается такое явление. таким образом, в коллекцию всегда записываются данные вне зависимости получает информационная система данные об осадках или нет.'))"
      ]
     },
     "execution_count": 6,
     "metadata": {},
     "output_type": "execute_result"
    }
   ],
   "execution_count": 6
  },
  {
   "metadata": {
    "ExecuteTime": {
     "end_time": "2025-03-23T14:47:04.183408Z",
     "start_time": "2025-03-23T14:47:04.172311Z"
    }
   },
   "cell_type": "code",
   "source": [
    "relevant_docs = [doc for doc in docs if doc.metadata[\"score\"] < 1.2]\n",
    "relevant_docs"
   ],
   "id": "7b123d5656c3fdd",
   "outputs": [
    {
     "data": {
      "text/plain": [
       "[Document(metadata={'category': 'Scala', 'docid': 1226679076, 'keywords': ['parallelism', 'fault tolerance'], 'page': '1', 'tech_stack': ['Scala', 'Akka'], 'title': 'Параллелизм и отказоустойчивость в обработки больших данных', 'score': 0.9152610000145984}, page_content='для решений данных проблем,связанных со временем,можно использовать akka, akka, это набор инструментов для создания параллельных, распределенных и отказоустойчивых приложений, управляемых сообщениями, для java и scala. подход akka к обработке параллелизма основан на модели actor.'),\n",
       " Document(metadata={'category': 'Scala', 'docid': 793881656, 'keywords': ['parallelism', 'fault tolerance'], 'page': '2', 'tech_stack': ['Scala', 'Akka'], 'title': 'Параллелизм и отказоустойчивость в обработки больших данных', 'score': 1.1544608214396033}, page_content='а его среда выполнения JVM позволяет создавать  высокопроизводительные системы с легким доступом к огромным экосистемам библиотек. Далее для примера использования akka будет решена задача подсчета количества слов в строке.')]"
      ]
     },
     "execution_count": 7,
     "metadata": {},
     "output_type": "execute_result"
    }
   ],
   "execution_count": 7
  },
  {
   "metadata": {
    "ExecuteTime": {
     "end_time": "2025-03-23T14:47:09.095320Z",
     "start_time": "2025-03-23T14:47:08.976577Z"
    }
   },
   "cell_type": "code",
   "source": "retriever.invoke({\"query\": \"Что такое Akka\", \"k\": 15, \"where_str\": \"metadata.category = 'Scala'\"})",
   "id": "980e6829851514c3",
   "outputs": [
    {
     "data": {
      "text/plain": [
       "(Document(metadata={'category': 'Scala', 'docid': 1226679076, 'keywords': ['parallelism', 'fault tolerance'], 'page': '1', 'tech_stack': ['Scala', 'Akka'], 'title': 'Параллелизм и отказоустойчивость в обработки больших данных', 'score': 0.9152610000145984}, page_content='для решений данных проблем,связанных со временем,можно использовать akka, akka, это набор инструментов для создания параллельных, распределенных и отказоустойчивых приложений, управляемых сообщениями, для java и scala. подход akka к обработке параллелизма основан на модели actor.'),\n",
       " Document(metadata={'category': 'Scala', 'docid': 793881656, 'keywords': ['parallelism', 'fault tolerance'], 'page': '2', 'tech_stack': ['Scala', 'Akka'], 'title': 'Параллелизм и отказоустойчивость в обработки больших данных', 'score': 1.1544608214396033}, page_content='а его среда выполнения JVM позволяет создавать  высокопроизводительные системы с легким доступом к огромным экосистемам библиотек. Далее для примера использования akka будет решена задача подсчета количества слов в строке.'),\n",
       " Document(metadata={'category': 'Scala', 'docid': 1668560240, 'keywords': ['parallelism', 'fault tolerance'], 'page': '1', 'tech_stack': ['Scala', 'Akka'], 'title': 'Параллелизм и отказоустойчивость в обработки больших данных', 'score': 1.2297824685719305}, page_content='В системе, основанной на actor, все является actor почти так же, как все является объектом в объектно ориентированном дизайне.'),\n",
       " Document(metadata={'category': 'Scala', 'docid': 1099315933, 'keywords': ['parallelism', 'fault tolerance'], 'page': '2', 'tech_stack': ['Scala', 'Akka'], 'title': 'Параллелизм и отказоустойчивость в обработки больших данных', 'score': 1.2970643700385398}, page_content='d частности, в системе actor в scala, actors взаимодействуют и обмениваются информацией без каких-либо предпосылок последовательности. Механизм, с помощью которого субъекты обмениваются информацией друг с другом и ставят задачи друг другу, это передача сообщений.'),\n",
       " Document(metadata={'category': 'Scala', 'docid': 3242015362, 'keywords': ['parallelism', 'fault tolerance'], 'page': '2', 'tech_stack': ['Scala', 'Akka'], 'title': 'Параллелизм и отказоустойчивость в обработки больших данных', 'score': 1.3062246058771445}, page_content='для решения данной задачи можно создать корневой actor и дочерний actor. корневой actor читает файл, и по мере загрузки каждой строки из файла создается дочерний объект, и ему передается сообщение, содержащее строку, которая должна быть обработана, далее корневой actor получает результат от дочернего.'),\n",
       " Document(metadata={'category': 'Scala', 'docid': 2825019517, 'keywords': ['parallelism', 'fault tolerance'], 'page': '2', 'tech_stack': ['Scala', 'Akka'], 'title': 'Параллелизм и отказоустойчивость в обработки больших данных', 'score': 1.3181037462278915}, page_content='scala объединяет объектно-ориентированное и функциональное программирование на одном кратком языке высокого уровня. статические типы Scala помогают избежать ошибок в сложных приложениях'),\n",
       " Document(metadata={'category': 'Scala', 'docid': 2208173133, 'keywords': ['parallelism', 'fault tolerance'], 'page': '2', 'tech_stack': ['Scala', 'Akka'], 'title': 'Параллелизм и отказоустойчивость в обработки больших данных', 'score': 1.3430495229958264}, page_content='однако ключевым отличием является, то, что модель была специально разработана и спроектирована так, чтобы работать с параллельной моделью, тогда как объектно-ориентированная модель нет.'),\n",
       " Document(metadata={'category': 'Scala', 'docid': 1151521733, 'keywords': ['parallelism', 'fault tolerance'], 'page': '3', 'tech_stack': ['Scala', 'Akka'], 'title': 'Параллелизм и отказоустойчивость в обработки больших данных', 'score': 1.3549904247067437}, page_content='результат выполнения программы. видно, что первая строка в консоли была напечатана map(three-> 1), это было вызвано тем, что третья строка из входного файла содержала меньше данных, по этому запущенный последним дочерний actor был завершен самым первым.'),\n",
       " Document(metadata={'category': 'Scala', 'docid': 1543896932, 'keywords': ['parallelism', 'fault tolerance'], 'page': '1', 'tech_stack': ['Scala', 'Akka'], 'title': 'Параллелизм и отказоустойчивость в обработки больших данных', 'score': 1.3941265769102313}, page_content='многие из этих взаимодействий  из-за миллиардов  устройств Интернета вещей. они связаны по всему миру.ожидается, что в 2025 году будет создано более 90ZB данных. одна из вызванных проблем в обработки данных являются застроченное время.'),\n",
       " Document(metadata={'category': 'Scala', 'docid': 859103644, 'keywords': ['parallelism', 'fault tolerance'], 'page': '4', 'tech_stack': ['Scala', 'Akka'], 'title': 'Параллелизм и отказоустойчивость в обработки больших данных', 'score': 1.3994361812902933}, page_content='устойчивую параллельную обработку данных важно использовать в интеллектуальных системах, которые должны исключать сбои т. к. это может привести к нарушению безопасности.Например,распознавание объектов в реальном времени.'),\n",
       " Document(metadata={'category': 'Scala', 'docid': 1286778964, 'keywords': ['parallelism', 'fault tolerance'], 'page': '1', 'tech_stack': ['Scala', 'Akka'], 'title': 'Параллелизм и отказоустойчивость в обработки больших данных', 'score': 1.4035427645337786}, page_content='сегодня более 5 миллиардов потребителей взаимодействуют с данными каждый день. в 2025 году каждый подключенный человек будет как минимум один раз взаимодействовать с данными каждые 18 секунд.'),\n",
       " Document(metadata={'category': 'Scala', 'docid': 3769444204, 'keywords': ['parallelism', 'fault tolerance'], 'page': '1', 'tech_stack': ['Scala', 'Akka'], 'title': 'Параллелизм и отказоустойчивость в обработки больших данных', 'score': 1.4216054667821414}, page_content='для того чтобы уменьшить затраченное время на анализ больших данных используется параллельная обработка данных. также на время влияет устойчивость архитектуры. если во время работы интеллектуальных систем происходят сбои, то затраченное время на выполнения обработку данных будет увеличено.'))"
      ]
     },
     "execution_count": 8,
     "metadata": {},
     "output_type": "execute_result"
    }
   ],
   "execution_count": 8
  },
  {
   "metadata": {
    "ExecuteTime": {
     "end_time": "2025-03-23T14:47:23.085706Z",
     "start_time": "2025-03-23T14:47:22.944682Z"
    }
   },
   "cell_type": "code",
   "source": "retriever.invoke({\"query\": \"Что такое Akka\", \"k\": 15, \"where_str\": \"has(metadata.tech_stack, 'Python')\"})",
   "id": "90a9dbab179b919f",
   "outputs": [
    {
     "data": {
      "text/plain": [
       "(Document(metadata={'category': 'NN', 'docid': 1414567875, 'keywords': ['computer vision'], 'page': '2', 'tech_stack': ['Python'], 'title': '«Определение жизни» с помощью машинного зрения', 'score': 1.3257382875757038}, page_content='детектор лицевых ориентиров, который реализован внутри dlib, выдает 68 точек, которые отображаются на конкретных областях лица. Эти точечные отображения были получены путем обучения предиктора на наборе данных iBUG 300-W.'),\n",
       " Document(metadata={'category': 'NN', 'docid': 2264669975, 'keywords': ['computer vision'], 'page': '1', 'tech_stack': ['Python'], 'title': '«Определение жизни» с помощью машинного зрения', 'score': 1.3267966871671832}, page_content='с использованием компьютерного зрения можно реализовать программное обеспечение, которое будет фиксировать моргание. Данное программное обеспечение можно использовать для дополнительного этапа защиты перед распознаванием лица, таким образом можно отличить снимок от настоящего человека.'),\n",
       " Document(metadata={'category': 'NN', 'docid': 1311383742, 'keywords': ['computer vision'], 'page': '1', 'tech_stack': ['Python'], 'title': '«Определение жизни» с помощью машинного зрения', 'score': 1.3303410643063596}, page_content='области применения компьютерного зрения: медицина, охранные системы, мультимедиа приложения, расширенная реальность, системы распознавания рукописного и печатного текста, промышленность.'),\n",
       " Document(metadata={'category': 'NN', 'docid': 3644292054, 'keywords': ['computer vision'], 'page': '2', 'tech_stack': ['Python'], 'title': '«Определение жизни» с помощью машинного зрения', 'score': 1.3348401196191173}, page_content='таким образом задав условие, если состояние глаза было близко к 0, то человек моргнул, следовательно перед камерой реальный человек, а не фотография.'),\n",
       " Document(metadata={'category': 'NN', 'docid': 3472430911, 'keywords': ['computer vision'], 'page': '1', 'tech_stack': ['Python'], 'title': '«Определение жизни» с помощью машинного зрения', 'score': 1.3383077912377355}, page_content='компьютерное зрение - научное направление в области искусственного интеллекта, в частности робототехники, и связанные с ним технологии получения изображений объектов реального мира, их обработки и использования полученных данных для решения разного рода прикладных задач без участия (частичного или полного) человека.'),\n",
       " Document(metadata={'category': 'NN', 'docid': 189086953, 'keywords': ['computer vision'], 'page': '2', 'tech_stack': ['Python'], 'title': '«Определение жизни» с помощью машинного зрения', 'score': 1.3408649236755301}, page_content='dlib используется как в промышленности, так и в научных кругах в самых разных областях, включая робототехнику, встроенные устройства, мобильные телефоны и большие высокопроизводительные вычислительные среды.'),\n",
       " Document(metadata={'category': 'NN', 'docid': 1838897883, 'keywords': ['computer vision'], 'page': '2', 'tech_stack': ['Python'], 'title': '«Определение жизни» с помощью машинного зрения', 'score': 1.3495854733668267}, page_content='состояние глаза можно определить, как отношение между сумой расстояний вертикальных точек и удвоенного расстояния горизонтальных точек. Для расчета расстояний между двумя точками можно использовать формулу Евклида.'),\n",
       " Document(metadata={'category': 'NN', 'docid': 4221983361, 'keywords': ['computer vision'], 'page': '1', 'tech_stack': ['Python'], 'title': '«Определение жизни» с помощью машинного зрения', 'score': 1.351856157008978}, page_content='dlib - это современный инструментарий c++, содержащий алгоритмы машинного обучения и инструменты для создания сложного программного обеспечения на c++ для решения реальных задач.'),\n",
       " Document(metadata={'category': 'NN', 'docid': 2349682090, 'keywords': ['computer vision'], 'page': '1', 'tech_stack': ['Python'], 'title': '«Определение жизни» с помощью машинного зрения', 'score': 1.3568141733192924}, page_content='компьютерное зрение, это общий набор методов, позволяющих компьютерам видеть. компьютерное зрение является подразделом инженерии, связанное с вычислительной техникой, оптикой, машиностроением и промышленной автоматизацией.'),\n",
       " Document(metadata={'category': 'NN', 'docid': 1979324460, 'keywords': ['computer vision'], 'page': '2', 'tech_stack': ['Python'], 'title': '«Определение жизни» с помощью машинного зрения', 'score': 1.3576539611318879}, page_content='глаза описываются шестью точками. вычислив расстояние между ними, можно определить моргнул человек или нет: если состояние глаза стремится к нулю, то глаз закрыт, если состояние глаза больше заданного порога, то глаз открыт.'),\n",
       " Document(metadata={'category': 'NN', 'docid': 1451095003, 'keywords': ['computer vision'], 'page': '1', 'tech_stack': ['Python'], 'title': '«Определение жизни» с помощью машинного зрения', 'score': 1.3643169827727823}, page_content='история компьютерного зрения берет своё начало с 50-х годов xx века. вВ это время компьютеры начали становиться общедоступными для обработки и анализа информации.'),\n",
       " Document(metadata={'category': 'NN', 'docid': 790547929, 'keywords': ['computer vision'], 'page': '1', 'tech_stack': ['Python'], 'title': '«Определение жизни» с помощью машинного зрения', 'score': 1.3809254143899663}, page_content='еще одно применение, безопасность дорожного движения: программное обеспечение может зафиксировать сонливость водителя, если он засыпает или уснул за рулём.'),\n",
       " Document(metadata={'category': 'NN', 'docid': 3031604579, 'keywords': ['computer vision'], 'page': '2', 'tech_stack': ['Python'], 'title': '«Определение жизни» с помощью машинного зрения', 'score': 1.386676877568072}, page_content='dlib с открытым исходным кодом позволяет использовать его в любом приложении бесплатно.'),\n",
       " Document(metadata={'category': 'NN', 'docid': 178980266, 'keywords': ['computer vision'], 'page': '3', 'tech_stack': ['Python'], 'title': '«Определение жизни» с помощью машинного зрения', 'score': 1.3885899657360585}, page_content='таким образом можно задать следующие параметры, количество морганий для определения, что перед камерой не фотография, а реальный сотрудник предприятия или владелец дома и значение параметра состояния глаза, при котором глаз будет считаться закрытым (или открытым).'))"
      ]
     },
     "execution_count": 10,
     "metadata": {},
     "output_type": "execute_result"
    }
   ],
   "execution_count": 10
  },
  {
   "metadata": {},
   "cell_type": "markdown",
   "source": [
    "4 rank_llm\n",
    ".venv/Lib/site-packages/langchain_community/document_compressors/rankllm_rerank.py\n",
    "Закомментировать в `if hasattr(rerank_results, \"candidates\"):`\n",
    "```py\n",
    "for doc in documents:\n",
    "    # doc = documents[int(res.docid)]\n",
    "```"
   ],
   "id": "517f82b81fb88543"
  },
  {
   "metadata": {},
   "cell_type": "markdown",
   "source": "# 2. Переранжирование документов (чанков)",
   "id": "bcb82cbed2dac3e6"
  },
  {
   "metadata": {
    "ExecuteTime": {
     "end_time": "2025-03-28T15:07:41.040712Z",
     "start_time": "2025-03-28T15:04:24.612904Z"
    }
   },
   "cell_type": "code",
   "source": [
    "from langchain_community.document_compressors.rankllm_rerank import RankLLMRerank\n",
    "\n",
    "question = \"Как определить моргания глаза\"\n",
    "\n",
    "docs = retriever.invoke({\"query\": question, \"k\": 15})\n",
    "\n",
    "relevant_docs = [doc for doc in docs if doc.metadata[\"score\"] < 1.2]\n",
    "\n",
    "compressor = RankLLMRerank(top_n=3, model=\"zephyr\")\n",
    "\n",
    "compressed_docs = compressor.compress_documents(relevant_docs, question)"
   ],
   "id": "f499c34d9cc9d246",
   "outputs": [
    {
     "name": "stderr",
     "output_type": "stream",
     "text": [
      "Loading checkpoint shards: 100%|██████████| 3/3 [00:25<00:00,  8.46s/it]\n",
      "100%|██████████| 1/1 [02:22<00:00, 142.70s/it]\n"
     ]
    }
   ],
   "execution_count": 6
  },
  {
   "metadata": {
    "ExecuteTime": {
     "end_time": "2025-03-23T14:56:30.126497Z",
     "start_time": "2025-03-23T14:56:30.113459Z"
    }
   },
   "cell_type": "code",
   "source": "docs",
   "id": "a89f5a796030cf71",
   "outputs": [
    {
     "data": {
      "text/plain": [
       "(Document(metadata={'category': 'NN', 'docid': 1979324460, 'keywords': ['computer vision'], 'page': '2', 'tech_stack': ['Python'], 'title': '«Определение жизни» с помощью машинного зрения', 'score': 0.7329630317580049}, page_content='глаза описываются шестью точками. вычислив расстояние между ними, можно определить моргнул человек или нет: если состояние глаза стремится к нулю, то глаз закрыт, если состояние глаза больше заданного порога, то глаз открыт.'),\n",
       " Document(metadata={'category': 'NN', 'docid': 2264669975, 'keywords': ['computer vision'], 'page': '1', 'tech_stack': ['Python'], 'title': '«Определение жизни» с помощью машинного зрения', 'score': 0.8905457251726984}, page_content='с использованием компьютерного зрения можно реализовать программное обеспечение, которое будет фиксировать моргание. Данное программное обеспечение можно использовать для дополнительного этапа защиты перед распознаванием лица, таким образом можно отличить снимок от настоящего человека.'),\n",
       " Document(metadata={'category': 'NN', 'docid': 1414567875, 'keywords': ['computer vision'], 'page': '2', 'tech_stack': ['Python'], 'title': '«Определение жизни» с помощью машинного зрения', 'score': 0.9108508721905154}, page_content='детектор лицевых ориентиров, который реализован внутри dlib, выдает 68 точек, которые отображаются на конкретных областях лица. Эти точечные отображения были получены путем обучения предиктора на наборе данных iBUG 300-W.'),\n",
       " Document(metadata={'category': 'NN', 'docid': 178980266, 'keywords': ['computer vision'], 'page': '3', 'tech_stack': ['Python'], 'title': '«Определение жизни» с помощью машинного зрения', 'score': 0.9284630869493257}, page_content='таким образом можно задать следующие параметры, количество морганий для определения, что перед камерой не фотография, а реальный сотрудник предприятия или владелец дома и значение параметра состояния глаза, при котором глаз будет считаться закрытым (или открытым).'),\n",
       " Document(metadata={'category': 'NN', 'docid': 3644292054, 'keywords': ['computer vision'], 'page': '2', 'tech_stack': ['Python'], 'title': '«Определение жизни» с помощью машинного зрения', 'score': 0.9331371213676841}, page_content='таким образом задав условие, если состояние глаза было близко к 0, то человек моргнул, следовательно перед камерой реальный человек, а не фотография.'),\n",
       " Document(metadata={'category': 'NN', 'docid': 1838897883, 'keywords': ['computer vision'], 'page': '2', 'tech_stack': ['Python'], 'title': '«Определение жизни» с помощью машинного зрения', 'score': 0.9791871965886073}, page_content='состояние глаза можно определить, как отношение между сумой расстояний вертикальных точек и удвоенного расстояния горизонтальных точек. Для расчета расстояний между двумя точками можно использовать формулу Евклида.'),\n",
       " Document(metadata={'category': 'NN', 'docid': 3472430911, 'keywords': ['computer vision'], 'page': '1', 'tech_stack': ['Python'], 'title': '«Определение жизни» с помощью машинного зрения', 'score': 1.0469843448846858}, page_content='компьютерное зрение - научное направление в области искусственного интеллекта, в частности робототехники, и связанные с ним технологии получения изображений объектов реального мира, их обработки и использования полученных данных для решения разного рода прикладных задач без участия (частичного или полного) человека.'),\n",
       " Document(metadata={'category': 'NN', 'docid': 2349682090, 'keywords': ['computer vision'], 'page': '1', 'tech_stack': ['Python'], 'title': '«Определение жизни» с помощью машинного зрения', 'score': 1.053948999538237}, page_content='компьютерное зрение, это общий набор методов, позволяющих компьютерам видеть. компьютерное зрение является подразделом инженерии, связанное с вычислительной техникой, оптикой, машиностроением и промышленной автоматизацией.'),\n",
       " Document(metadata={'category': 'NN', 'docid': 1311383742, 'keywords': ['computer vision'], 'page': '1', 'tech_stack': ['Python'], 'title': '«Определение жизни» с помощью машинного зрения', 'score': 1.0749321323527035}, page_content='области применения компьютерного зрения: медицина, охранные системы, мультимедиа приложения, расширенная реальность, системы распознавания рукописного и печатного текста, промышленность.'),\n",
       " Document(metadata={'category': 'NN', 'docid': 790547929, 'keywords': ['computer vision'], 'page': '1', 'tech_stack': ['Python'], 'title': '«Определение жизни» с помощью машинного зрения', 'score': 1.110755310517438}, page_content='еще одно применение, безопасность дорожного движения: программное обеспечение может зафиксировать сонливость водителя, если он засыпает или уснул за рулём.'),\n",
       " Document(metadata={'category': 'NN', 'docid': 1451095003, 'keywords': ['computer vision'], 'page': '1', 'tech_stack': ['Python'], 'title': '«Определение жизни» с помощью машинного зрения', 'score': 1.1164618019489136}, page_content='история компьютерного зрения берет своё начало с 50-х годов xx века. вВ это время компьютеры начали становиться общедоступными для обработки и анализа информации.'),\n",
       " Document(metadata={'category': 'Big Data', 'docid': 4026156487, 'keywords': ['DBMS', 'Big Data', 'Hive'], 'page': '1', 'tech_stack': ['Hive'], 'title': 'Оптимизированное хранение больших данных с помощью Apache Hive', 'score': 1.152803177206327}, page_content='большие данные также используются медицинскими исследователями для выявления признаков заболеваний и факторов риска, а врачами - для диагностики заболеваний и состояний у пациентов.'),\n",
       " Document(metadata={'category': 'Big Data', 'docid': 3747377454, 'keywords': ['Big Data', 'analysis', 'Map Reduce'], 'page': '3', 'tech_stack': ['Scala'], 'title': 'Применение программной модели Map/Reduce в анализе больших данных в области медицины', 'score': 1.1850740157179769}, page_content='таким образом применив данную программную модель, можно сделать вывод, что у большинства после вакцины была температура. Данный анализ поможет выявить своевременно побочные эффекты, которые не запланированы.'),\n",
       " Document(metadata={'category': 'Scala', 'docid': 859103644, 'keywords': ['parallelism', 'fault tolerance'], 'page': '4', 'tech_stack': ['Scala', 'Akka'], 'title': 'Параллелизм и отказоустойчивость в обработки больших данных', 'score': 1.2350019224250182}, page_content='устойчивую параллельную обработку данных важно использовать в интеллектуальных системах, которые должны исключать сбои т. к. это может привести к нарушению безопасности.Например,распознавание объектов в реальном времени.'),\n",
       " Document(metadata={'category': 'Big Data', 'docid': 1492181892, 'keywords': ['Big Data', 'analysis', 'Map Reduce'], 'page': '3', 'tech_stack': ['Scala'], 'title': 'Применение программной модели Map/Reduce в анализе больших данных в области медицины', 'score': 1.2401768780317752}, page_content='на рисунке 3 продемонстрирован результат над первым комментарием. слово «температура» встречается два раза. list(hashmap(до -> 1, затем -> 1, температура -> 2, 37, -> 1, Была -> 1, поднялась -> 1, 38 -> 1).'))"
      ]
     },
     "execution_count": 13,
     "metadata": {},
     "output_type": "execute_result"
    }
   ],
   "execution_count": 13
  },
  {
   "metadata": {
    "ExecuteTime": {
     "end_time": "2025-03-23T14:56:40.303576Z",
     "start_time": "2025-03-23T14:56:40.291043Z"
    }
   },
   "cell_type": "code",
   "source": "relevant_docs",
   "id": "43b8bf03887fa624",
   "outputs": [
    {
     "data": {
      "text/plain": [
       "[Document(metadata={'category': 'NN', 'docid': 1979324460, 'keywords': ['computer vision'], 'page': '2', 'tech_stack': ['Python'], 'title': '«Определение жизни» с помощью машинного зрения', 'score': 0.7329630317580049}, page_content='глаза описываются шестью точками. вычислив расстояние между ними, можно определить моргнул человек или нет: если состояние глаза стремится к нулю, то глаз закрыт, если состояние глаза больше заданного порога, то глаз открыт.'),\n",
       " Document(metadata={'category': 'NN', 'docid': 2264669975, 'keywords': ['computer vision'], 'page': '1', 'tech_stack': ['Python'], 'title': '«Определение жизни» с помощью машинного зрения', 'score': 0.8905457251726984}, page_content='с использованием компьютерного зрения можно реализовать программное обеспечение, которое будет фиксировать моргание. Данное программное обеспечение можно использовать для дополнительного этапа защиты перед распознаванием лица, таким образом можно отличить снимок от настоящего человека.'),\n",
       " Document(metadata={'category': 'NN', 'docid': 1414567875, 'keywords': ['computer vision'], 'page': '2', 'tech_stack': ['Python'], 'title': '«Определение жизни» с помощью машинного зрения', 'score': 0.9108508721905154}, page_content='детектор лицевых ориентиров, который реализован внутри dlib, выдает 68 точек, которые отображаются на конкретных областях лица. Эти точечные отображения были получены путем обучения предиктора на наборе данных iBUG 300-W.'),\n",
       " Document(metadata={'category': 'NN', 'docid': 178980266, 'keywords': ['computer vision'], 'page': '3', 'tech_stack': ['Python'], 'title': '«Определение жизни» с помощью машинного зрения', 'score': 0.9284630869493257}, page_content='таким образом можно задать следующие параметры, количество морганий для определения, что перед камерой не фотография, а реальный сотрудник предприятия или владелец дома и значение параметра состояния глаза, при котором глаз будет считаться закрытым (или открытым).'),\n",
       " Document(metadata={'category': 'NN', 'docid': 3644292054, 'keywords': ['computer vision'], 'page': '2', 'tech_stack': ['Python'], 'title': '«Определение жизни» с помощью машинного зрения', 'score': 0.9331371213676841}, page_content='таким образом задав условие, если состояние глаза было близко к 0, то человек моргнул, следовательно перед камерой реальный человек, а не фотография.'),\n",
       " Document(metadata={'category': 'NN', 'docid': 1838897883, 'keywords': ['computer vision'], 'page': '2', 'tech_stack': ['Python'], 'title': '«Определение жизни» с помощью машинного зрения', 'score': 0.9791871965886073}, page_content='состояние глаза можно определить, как отношение между сумой расстояний вертикальных точек и удвоенного расстояния горизонтальных точек. Для расчета расстояний между двумя точками можно использовать формулу Евклида.'),\n",
       " Document(metadata={'category': 'NN', 'docid': 3472430911, 'keywords': ['computer vision'], 'page': '1', 'tech_stack': ['Python'], 'title': '«Определение жизни» с помощью машинного зрения', 'score': 1.0469843448846858}, page_content='компьютерное зрение - научное направление в области искусственного интеллекта, в частности робототехники, и связанные с ним технологии получения изображений объектов реального мира, их обработки и использования полученных данных для решения разного рода прикладных задач без участия (частичного или полного) человека.'),\n",
       " Document(metadata={'category': 'NN', 'docid': 2349682090, 'keywords': ['computer vision'], 'page': '1', 'tech_stack': ['Python'], 'title': '«Определение жизни» с помощью машинного зрения', 'score': 1.053948999538237}, page_content='компьютерное зрение, это общий набор методов, позволяющих компьютерам видеть. компьютерное зрение является подразделом инженерии, связанное с вычислительной техникой, оптикой, машиностроением и промышленной автоматизацией.'),\n",
       " Document(metadata={'category': 'NN', 'docid': 1311383742, 'keywords': ['computer vision'], 'page': '1', 'tech_stack': ['Python'], 'title': '«Определение жизни» с помощью машинного зрения', 'score': 1.0749321323527035}, page_content='области применения компьютерного зрения: медицина, охранные системы, мультимедиа приложения, расширенная реальность, системы распознавания рукописного и печатного текста, промышленность.'),\n",
       " Document(metadata={'category': 'NN', 'docid': 790547929, 'keywords': ['computer vision'], 'page': '1', 'tech_stack': ['Python'], 'title': '«Определение жизни» с помощью машинного зрения', 'score': 1.110755310517438}, page_content='еще одно применение, безопасность дорожного движения: программное обеспечение может зафиксировать сонливость водителя, если он засыпает или уснул за рулём.'),\n",
       " Document(metadata={'category': 'NN', 'docid': 1451095003, 'keywords': ['computer vision'], 'page': '1', 'tech_stack': ['Python'], 'title': '«Определение жизни» с помощью машинного зрения', 'score': 1.1164618019489136}, page_content='история компьютерного зрения берет своё начало с 50-х годов xx века. вВ это время компьютеры начали становиться общедоступными для обработки и анализа информации.'),\n",
       " Document(metadata={'category': 'Big Data', 'docid': 4026156487, 'keywords': ['DBMS', 'Big Data', 'Hive'], 'page': '1', 'tech_stack': ['Hive'], 'title': 'Оптимизированное хранение больших данных с помощью Apache Hive', 'score': 1.152803177206327}, page_content='большие данные также используются медицинскими исследователями для выявления признаков заболеваний и факторов риска, а врачами - для диагностики заболеваний и состояний у пациентов.'),\n",
       " Document(metadata={'category': 'Big Data', 'docid': 3747377454, 'keywords': ['Big Data', 'analysis', 'Map Reduce'], 'page': '3', 'tech_stack': ['Scala'], 'title': 'Применение программной модели Map/Reduce в анализе больших данных в области медицины', 'score': 1.1850740157179769}, page_content='таким образом применив данную программную модель, можно сделать вывод, что у большинства после вакцины была температура. Данный анализ поможет выявить своевременно побочные эффекты, которые не запланированы.')]"
      ]
     },
     "execution_count": 14,
     "metadata": {},
     "output_type": "execute_result"
    }
   ],
   "execution_count": 14
  },
  {
   "metadata": {
    "ExecuteTime": {
     "end_time": "2025-03-23T14:56:40.397554Z",
     "start_time": "2025-03-23T14:56:40.387940Z"
    }
   },
   "cell_type": "code",
   "source": "compressed_docs",
   "id": "7264d4b0b0876b1",
   "outputs": [
    {
     "data": {
      "text/plain": [
       "[Document(metadata={'category': 'NN', 'docid': 1979324460, 'keywords': ['computer vision'], 'page': '2', 'tech_stack': ['Python'], 'title': '«Определение жизни» с помощью машинного зрения', 'score': 0.7329630317580049}, page_content='глаза описываются шестью точками. вычислив расстояние между ними, можно определить моргнул человек или нет: если состояние глаза стремится к нулю, то глаз закрыт, если состояние глаза больше заданного порога, то глаз открыт.'),\n",
       " Document(metadata={'category': 'NN', 'docid': 2264669975, 'keywords': ['computer vision'], 'page': '1', 'tech_stack': ['Python'], 'title': '«Определение жизни» с помощью машинного зрения', 'score': 0.8905457251726984}, page_content='с использованием компьютерного зрения можно реализовать программное обеспечение, которое будет фиксировать моргание. Данное программное обеспечение можно использовать для дополнительного этапа защиты перед распознаванием лица, таким образом можно отличить снимок от настоящего человека.'),\n",
       " Document(metadata={'category': 'NN', 'docid': 1414567875, 'keywords': ['computer vision'], 'page': '2', 'tech_stack': ['Python'], 'title': '«Определение жизни» с помощью машинного зрения', 'score': 0.9108508721905154}, page_content='детектор лицевых ориентиров, который реализован внутри dlib, выдает 68 точек, которые отображаются на конкретных областях лица. Эти точечные отображения были получены путем обучения предиктора на наборе данных iBUG 300-W.')]"
      ]
     },
     "execution_count": 15,
     "metadata": {},
     "output_type": "execute_result"
    }
   ],
   "execution_count": 15
  },
  {
   "metadata": {
    "ExecuteTime": {
     "end_time": "2025-03-28T15:07:52.900483Z",
     "start_time": "2025-03-28T15:07:51.136200Z"
    }
   },
   "cell_type": "code",
   "source": [
    "# Освобождение VRAM после использования RankLLMRerank\n",
    "del compressor  # Удаляем объект компрессора\n",
    "\n",
    "gc.collect()  # Принудительный сбор мусора\n",
    "torch.cuda.empty_cache()  # Очищаем кэш VRAM"
   ],
   "id": "efaa4e3d14eea8de",
   "outputs": [],
   "execution_count": 7
  },
  {
   "metadata": {},
   "cell_type": "markdown",
   "source": "# 3. LLM",
   "id": "b8046f80ce71e8fc"
  },
  {
   "metadata": {
    "ExecuteTime": {
     "end_time": "2025-03-23T14:58:45.980509Z",
     "start_time": "2025-03-23T14:58:11.318517Z"
    }
   },
   "cell_type": "code",
   "source": [
    "# Настройка квантизации\n",
    "bnb_config = BitsAndBytesConfig(\n",
    "    load_in_4bit=True,\n",
    "    bnb_4bit_quant_type=\"nf4\",\n",
    "    bnb_4bit_compute_dtype=torch.bfloat16,\n",
    "    bnb_4bit_use_double_quant=True,\n",
    "    llm_int8_enable_fp32_cpu_offload=True,\n",
    ")\n",
    "\n",
    "# Автоматическое распределение\n",
    "max_memory = {0: \"6GB\", \"cpu\": \"18GB\"}\n",
    "\n",
    "# + mistralai/Mistral-7B-Instruct-v0.3              (tool)\n",
    "# + mistralai/Mistral-Nemo-Instruct-2407            (12B) (NVIDIA) (длинный контекст, программирование, рус)\n",
    "\n",
    "# + deepseek-ai/DeepSeek-V2-Lite-Chat               (16B) (MoE) (win 128к) (new, 4 чат-приложений)\n",
    "# + deepseek-ai/DeepSeek-R1-Distill-Qwen-7B         (инструктивная, дистиллированная (DeepSeek-R1 (671B))) (база Qwen-2.5)\n",
    "# + deepseek-ai/deepseek-coder-7b-instruct-v1.5\n",
    "# deepseek-ai/deepseek-math-7b-instruct\n",
    "# deepseek-ai/DeepSeek-Prover-V1.5-SFT              (SFT для точности)\n",
    "# + deepseek-ai/DeepSeek-Prover-V1.5-RL             (разнообразия и адаптивности в доказательствах > SFT)\n",
    "# (Supervised Fine-Tuning (SFT) на синтетических данных.\n",
    "# Reinforcement Learning from Proof Assistant Feedback (RLPAF) для улучшения генерации доказательств.)\n",
    "\n",
    "# + meta-llama/Meta-Llama-3-8B-Instruct\n",
    "# meta-llama/CodeLlama-7b-hf                        (win 16k)\n",
    "# + meta-llama/CodeLlama-7b-Python-hf\n",
    "# + meta-llama/CodeLlama-7b-Instruct-hf\n",
    "# meta-llama/Meta-Llama-Guard-2-8B                  (проверка безопасности вывода сообщения от LLM)\n",
    "\n",
    "# CohereForAI/c4ai-command-r7b-12-2024\n",
    "# CohereForAI/c4ai-command-r-plus-08-2024           (104B) (RAG, tool use)\n",
    "# CohereForAI/c4ai-command-r-v01                    (35B)\n",
    "\n",
    "# perplexity-ai/r1-1776 671B                        (MoE) (база DeepSeek-R1)\n",
    "# perplexity-ai/r1-1776-distill-llama-70b 70B       (база Llama-3.3-Instruct)\n",
    "\n",
    "# + Groq/Llama-3-Groq-8B-Tool-Use                   (4 symlinks 4 win запустить от admin python)\n",
    "\n",
    "# Qwen/Qwen2.5-7B-Instruct\n",
    "# Qwen/QwQ-32B                                      (лучше, чем DeepSeek-R1 671B, может писать на русском\n",
    "# Qwen/Qwen2.5-Coder-14B-Instruct\n",
    "# Qwen/Qwen2.5-Math-7B-Instruct                     (англ и китайский)\n",
    "# Qwen/Qwen2.5-Math-RM-72B                          (оценка финального ответа)\n",
    "# Qwen/Qwen2.5-Math-PRM-7B                          (оценка каждого шага)\n",
    "# Qwen/Qwen2.5-VL-7B-Instruct                       (OCR)\n",
    "# Qwen/Qwen2.5-VL-7B-Instruct-AWQ                   (OCR + < VRAM)\n",
    "\n",
    "# + yandex/YandexGPT-5-Lite-8B-pretrain\n",
    "\n",
    "# ai-sage/GigaChat-20B-A3B-instruct\n",
    "\n",
    "model_name = \"deepseek-ai/DeepSeek-R1-Distill-Qwen-7B\"\n",
    "model = AutoModelForCausalLM.from_pretrained(\n",
    "    model_name,\n",
    "    # trust_remote_code=True,  # Разрешаем выполнение пользовательского кода (Deepseek эксперты)\n",
    "    # return_full_text=False,\n",
    "    quantization_config=bnb_config,\n",
    "    # \"cpu\": Размещает всю модель на CPU.\n",
    "    # \"cuda:0\": Размещает всю модель на GPU с индексом 0.\n",
    "    # \"auto\": Автоматически распределяет модель между доступными устройствами (GPU и CPU) с помощью библиотеки accelerate.\n",
    "    # \"balanced\": Равномерно распределяет слои модели между доступными GPU.\n",
    "    # \"balanced_low_0\": Аналогично \"balanced\", но с меньшей нагрузкой на устройство с индексом 0.\n",
    "    # \"sequential\": Распределяет слои модели последовательно по доступным устройствам.\n",
    "    device_map=\"auto\",\n",
    "    # low_cpu_mem_usage=True,\n",
    "    torch_dtype=torch.bfloat16,\n",
    "    max_memory=max_memory,\n",
    "    offload_folder=\"D:/ws/python/llm/demo_llm_2/offload/\"\n",
    ")\n",
    "\n",
    "tokenizer = AutoTokenizer.from_pretrained(model_name)\n",
    "if tokenizer.pad_token_id is None:\n",
    "    tokenizer.pad_token_id = tokenizer.eos_token_id\n",
    "\n",
    "# Создание пайплайна для LLM\n",
    "text_generation_pipeline = pipeline(\n",
    "    \"text-generation\",\n",
    "    model=model,\n",
    "    model_kwargs={\"use_cache\": True},\n",
    "    tokenizer=tokenizer,\n",
    "    max_new_tokens=1024,\n",
    "    temperature=0.01,  # 1, 0.7, 0.3, 0.1, 0.01, 0\n",
    "    top_k=50,  # модель рассматривает только 50 токенов с наивысшей вероятностью\n",
    "    top_p=0.95,  # сумм. вероятность > 95%.\n",
    "    do_sample=True,\n",
    "    eos_token_id=tokenizer.eos_token_id,\n",
    "    repetition_penalty=1.2  # Аналог no_repeat_ngram_size\n",
    ")\n",
    "\n",
    "llm = HuggingFacePipeline(pipeline=text_generation_pipeline)"
   ],
   "id": "26797b1056b33f46",
   "outputs": [
    {
     "name": "stderr",
     "output_type": "stream",
     "text": [
      "Sliding Window Attention is enabled but not implemented for `sdpa`; unexpected results may be encountered.\n",
      "Loading checkpoint shards: 100%|██████████| 2/2 [00:29<00:00, 14.83s/it]\n",
      "Device set to use cuda:0\n",
      "C:\\Users\\gorde\\AppData\\Local\\Temp\\ipykernel_18604\\1494585286.py:91: LangChainDeprecationWarning: The class `HuggingFacePipeline` was deprecated in LangChain 0.0.37 and will be removed in 1.0. An updated version of the class exists in the :class:`~langchain-huggingface package and should be used instead. To use it run `pip install -U :class:`~langchain-huggingface` and import as `from :class:`~langchain_huggingface import HuggingFacePipeline``.\n",
      "  llm = HuggingFacePipeline(pipeline=text_generation_pipeline)\n"
     ]
    }
   ],
   "execution_count": 17
  },
  {
   "metadata": {
    "ExecuteTime": {
     "end_time": "2025-03-28T15:08:00.753797Z",
     "start_time": "2025-03-28T15:08:00.728244Z"
    }
   },
   "cell_type": "code",
   "source": [
    "rag_prompt = \"\"\"ты агент помощник, который думает и отвечает на вопрос пользователя на русском языке и использует для этого исключительно информацию из документ из контекст. внимание!!! очень важно используй информацию из документ из контекст. не используй свои знания. за тобой наблюдают и проверяют твои ответы. поэтому перед тем как написать ответ проверь себя еще раз действительно есть ответ в документах из контекст и действительно ты написал все символы на русском языке. после проверки напиши финальный ответ\n",
    "\\n\\nтвой алгоритм действий\n",
    "\\n1 запомни вопрос пользователя\n",
    "\\n2 изучить внимательно документ из контекст\n",
    "\\n3 если все документы из контекст не подходят для ответ на вопрос пользователя, то напиши [документ не найден 🤷️]\n",
    "\\n4 если документ из контекст подходит для ответ на вопрос пользователя, то напиши [документ найден 🕵️‍] и ответь на вопрос пользователя из информации из документ из контекст\n",
    "\\n\\n\\nизучи примеры и делай также\n",
    "\\n\\nпример 1\n",
    "\\nконтекст\n",
    "\\nдокумент 1 mongodb, это nosql база данных, где данные хранятся в виде документов json\n",
    "\\nдокумент 2 mongodb используется для хранения пользовательских данных\n",
    "\\nвопрос пользователя\n",
    "\\nчто такое mongodb\n",
    "\\nответ\n",
    "\\n[документ найден 🕵️‍]\n",
    "\\nmongodb, это nosql база данных\n",
    "\\n\\nпример 2\n",
    "\\nконтекст\n",
    "\\nдокумент 1 mongodb, это nosql база данных\n",
    "\\nвопрос пользователя\n",
    "\\nчто такое Hadoop\n",
    "\\nответ\n",
    "\\n[документ не найден 🤷‍]\n",
    "\\n\\nпример 3\n",
    "\\nконтекст\n",
    "\\nдокумент 1 scala, это сильный статически типизированный высокоуровневый яп общего назначения, поддерживающий как ооп, так и фп\n",
    "\\nвопрос пользователя\n",
    "\\nкто использует api вконтакте\n",
    "\\nответ\n",
    "\\n[документ не найден 🤷‍]\n",
    "\\n\\n\\nконтекст\n",
    "\\n{content}\n",
    "\\n\\nвопрос пользователя\n",
    "\\n{question}\n",
    "\\n\\nдумай и отвечай только на русском языке информацией из документ из контекст. пиши кратко в 3 предложения\n",
    "\\nответ:\"\"\""
   ],
   "id": "6c2a53aa76801dbf",
   "outputs": [],
   "execution_count": 9
  },
  {
   "metadata": {},
   "cell_type": "markdown",
   "source": "# 4. Run",
   "id": "a82825951c26ebd9"
  },
  {
   "metadata": {
    "ExecuteTime": {
     "end_time": "2025-03-28T15:08:02.878051Z",
     "start_time": "2025-03-28T15:08:02.862527Z"
    }
   },
   "cell_type": "code",
   "source": [
    "question = \"Как определить моргания глаза\"\n",
    "\n",
    "content = format_docs(compressed_docs)\n",
    "rag_prompt_formatted = rag_prompt.format(content=content, question=question)\n",
    "\n",
    "# result = llm.invoke([HumanMessage(content=rag_prompt_formatted)])"
   ],
   "id": "64937d3a7b7a349",
   "outputs": [],
   "execution_count": 10
  },
  {
   "metadata": {},
   "cell_type": "code",
   "outputs": [],
   "execution_count": null,
   "source": "question = \"Как определить моргания глаза\"",
   "id": "20e83fb3371f7528"
  },
  {
   "metadata": {
    "ExecuteTime": {
     "end_time": "2025-03-28T15:08:05.707354Z",
     "start_time": "2025-03-28T15:08:05.689674Z"
    }
   },
   "cell_type": "code",
   "source": "content",
   "id": "4f46a7bf3cf1fff8",
   "outputs": [
    {
     "data": {
      "text/plain": [
       "'Документ 1:\\nглаза описываются шестью точками. вычислив расстояние между ними, можно определить моргнул человек или нет: если состояние глаза стремится к нулю, то глаз закрыт, если состояние глаза больше заданного порога, то глаз открыт.\\n\\nДокумент 2:\\nс использованием компьютерного зрения можно реализовать программное обеспечение, которое будет фиксировать моргание. Данное программное обеспечение можно использовать для дополнительного этапа защиты перед распознаванием лица, таким образом можно отличить снимок от настоящего человека.\\n\\nДокумент 3:\\nдетектор лицевых ориентиров, который реализован внутри dlib, выдает 68 точек, которые отображаются на конкретных областях лица. Эти точечные отображения были получены путем обучения предиктора на наборе данных iBUG 300-W.\\n\\n'"
      ]
     },
     "execution_count": 11,
     "metadata": {},
     "output_type": "execute_result"
    }
   ],
   "execution_count": 11
  },
  {
   "metadata": {
    "ExecuteTime": {
     "end_time": "2025-03-28T15:08:08.521538Z",
     "start_time": "2025-03-28T15:08:08.500276Z"
    }
   },
   "cell_type": "code",
   "source": "rag_prompt_formatted",
   "id": "c7b42349893d4c9a",
   "outputs": [
    {
     "data": {
      "text/plain": [
       "'ты агент помощник, который думает и отвечает на вопрос пользователя на русском языке и использует для этого исключительно информацию из документ из контекст. внимание!!! очень важно используй информацию из документ из контекст. не используй свои знания. за тобой наблюдают и проверяют твои ответы. поэтому перед тем как написать ответ проверь себя еще раз действительно есть ответ в документах из контекст и действительно ты написал все символы на русском языке. после проверки напиши финальный ответ\\n\\n\\nтвой алгоритм действий\\n\\n1 запомни вопрос пользователя\\n\\n2 изучить внимательно документ из контекст\\n\\n3 если все документы из контекст не подходят для ответ на вопрос пользователя, то напиши [документ не найден 🤷️]\\n\\n4 если документ из контекст подходит для ответ на вопрос пользователя, то напиши [документ найден 🕵️\\u200d] и ответь на вопрос пользователя из информации из документ из контекст\\n\\n\\n\\nизучи примеры и делай также\\n\\n\\nпример 1\\n\\nконтекст\\n\\nдокумент 1 mongodb, это nosql база данных, где данные хранятся в виде документов json\\n\\nдокумент 2 mongodb используется для хранения пользовательских данных\\n\\nвопрос пользователя\\n\\nчто такое mongodb\\n\\nответ\\n\\n[документ найден 🕵️\\u200d]\\n\\nmongodb, это nosql база данных\\n\\n\\nпример 2\\n\\nконтекст\\n\\nдокумент 1 mongodb, это nosql база данных\\n\\nвопрос пользователя\\n\\nчто такое Hadoop\\n\\nответ\\n\\n[документ не найден 🤷\\u200d]\\n\\n\\nпример 3\\n\\nконтекст\\n\\nдокумент 1 scala, это сильный статически типизированный высокоуровневый яп общего назначения, поддерживающий как ооп, так и фп\\n\\nвопрос пользователя\\n\\nкто использует api вконтакте\\n\\nответ\\n\\n[документ не найден 🤷\\u200d]\\n\\n\\n\\nконтекст\\n\\nДокумент 1:\\nглаза описываются шестью точками. вычислив расстояние между ними, можно определить моргнул человек или нет: если состояние глаза стремится к нулю, то глаз закрыт, если состояние глаза больше заданного порога, то глаз открыт.\\n\\nДокумент 2:\\nс использованием компьютерного зрения можно реализовать программное обеспечение, которое будет фиксировать моргание. Данное программное обеспечение можно использовать для дополнительного этапа защиты перед распознаванием лица, таким образом можно отличить снимок от настоящего человека.\\n\\nДокумент 3:\\nдетектор лицевых ориентиров, который реализован внутри dlib, выдает 68 точек, которые отображаются на конкретных областях лица. Эти точечные отображения были получены путем обучения предиктора на наборе данных iBUG 300-W.\\n\\n\\n\\n\\nвопрос пользователя\\n\\nКак определить моргания глаза\\n\\n\\nдумай и отвечай только на русском языке информацией из документ из контекст. пиши кратко в 3 предложения\\n\\nответ:'"
      ]
     },
     "execution_count": 12,
     "metadata": {},
     "output_type": "execute_result"
    }
   ],
   "execution_count": 12
  },
  {
   "metadata": {
    "ExecuteTime": {
     "end_time": "2025-03-23T15:10:42.032504Z",
     "start_time": "2025-03-23T15:10:42.020223Z"
    }
   },
   "cell_type": "code",
   "source": "result",
   "id": "6ed602792ed6144e",
   "outputs": [
    {
     "data": {
      "text/plain": [
       "'Human: ты агент помощник, который думает и отвечает на вопрос пользователя на русском языке и использует для этого исключительно информацию из документ из контекст. внимание!!! очень важно используй информацию из документ из контекст. не используй свои знания. за тобой наблюдают и проверяют твои ответы. поэтому перед тем как написать ответ проверь себя еще раз действительно есть ответ в документах из контекст и действительно ты написал все символы на русском языке. после проверки напиши финальный ответ\\n\\n\\n\\nтвой алгоритм действий\\n\\n1 запомни вопрос пользователя\\n\\n2 изучить внимательно документ из контекст\\n\\n3 если все документы из контекст не подходят для ответ на вопрос пользователя, то напиши [документ не найден 🤷️]\\n\\n4 если документ из контекст подходит для ответ на вопрос пользователя, то напиши [документ найден 🕵️\\u200d] и ответь на вопрос пользователя из информации из документ из контекст\\n\\n\\n\\n\\nизучи примеры и делай также\\n\\n\\nпример 1\\n\\nконтекст\\n\\nдокумент 1 mongodb, это nosql база данных, где данные хранятся в виде документов json\\n\\nдокумент 2 mongodb используется для хранения пользовательских данных\\n\\nвопрос пользователя\\n\\nчто такое mongodb\\n\\nответ\\n\\n[документ найден 🕵️\\u200d]\\n\\nmongodb, это nosql база данных\\n\\n\\n\\nпример 2\\n\\nконтекст\\n\\nдокумент 1 mongodb, это nosql база данных\\n\\nвопрос пользователя\\n\\nчто такое Hadoop\\n\\nответ\\n\\n[документ не найден 🤷\\u200d]\\n\\n\\n\\nпример 3\\n\\nконтекст\\n\\nдокумент 1 scala, это сильный статически типизированный высокоуровневый яп общего назначения, поддерживающий как ооп, так и фп\\n\\nвопрос пользователя\\n\\nкто использует api вконтакте\\n\\nответ\\n\\n[документ не найден 🤷\\u200d]\\n\\n\\n\\n\\n\\nконтекст\\n\\nДокумент 1:\\nглаза описываются шестью точками. вычислив расстояние между ними, можно определить моргнул человек или нет: если состояние глаза стремится к нулю, то глаз закрыт, если состояние глаза больше заданного порога, то глаз открыт.\\n\\nДокумент 2:\\nс использованием компьютерного зрения можно реализовать программное обеспечение, которое будет фиксировать моргание. Данное программное обеспечение можно использовать для дополнительного этапа защиты перед распознаванием лица, таким образом можно отличить снимок от настоящего человека.\\n\\nДокумент 3:\\nдетектор лицевых ориентиров, который реализован внутри dlib, выдает 68 точек, которые отображаются на конкретных областях лица. Эти точечные отображения были получены путем обучения предиктора на наборе данных iBUG 300-W.\\n\\n\\n\\n\\nвопрос пользователя\\n\\nКак определить моргания глаза\\n\\n\\n\\nдумай и отвечай только на русском языке информацией из документ из контекст. пиши кратко в 3 предложения\\n\\nответ: [\\n\\nдокумент найден 🕵️\\n\\n]\\n</think>\\n\\n[документ найден 🕵️]  \\nИз предоставленного контекста видно, что моргание глаза может быть определено через анализ позиции шести точек глаз. Если расстояние между ними стремится к нулю, глаза закрыты; при значении выше определенного порога — открыты.'"
      ]
     },
     "execution_count": 24,
     "metadata": {},
     "output_type": "execute_result"
    }
   ],
   "execution_count": 24
  },
  {
   "metadata": {
    "ExecuteTime": {
     "end_time": "2025-03-23T15:14:02.336203Z",
     "start_time": "2025-03-23T15:14:02.315887Z"
    }
   },
   "cell_type": "code",
   "source": "print(rag_prompt_formatted)",
   "id": "3cdfb366c5aec312",
   "outputs": [
    {
     "name": "stdout",
     "output_type": "stream",
     "text": [
      "ты агент помощник, который думает и отвечает на вопрос пользователя на русском языке и использует для этого исключительно информацию из документ из контекст. внимание!!! очень важно используй информацию из документ из контекст. не используй свои знания. за тобой наблюдают и проверяют твои ответы. поэтому перед тем как написать ответ проверь себя еще раз действительно есть ответ в документах из контекст и действительно ты написал все символы на русском языке. после проверки напиши финальный ответ\n",
      "\n",
      "\n",
      "\n",
      "твой алгоритм действий\n",
      "\n",
      "1 запомни вопрос пользователя\n",
      "\n",
      "2 изучить внимательно документ из контекст\n",
      "\n",
      "3 если все документы из контекст не подходят для ответ на вопрос пользователя, то напиши [документ не найден 🤷️]\n",
      "\n",
      "4 если документ из контекст подходит для ответ на вопрос пользователя, то напиши [документ найден 🕵️‍] и ответь на вопрос пользователя из информации из документ из контекст\n",
      "\n",
      "\n",
      "\n",
      "\n",
      "изучи примеры и делай также\n",
      "\n",
      "\n",
      "пример 1\n",
      "\n",
      "контекст\n",
      "\n",
      "документ 1 mongodb, это nosql база данных, где данные хранятся в виде документов json\n",
      "\n",
      "документ 2 mongodb используется для хранения пользовательских данных\n",
      "\n",
      "вопрос пользователя\n",
      "\n",
      "что такое mongodb\n",
      "\n",
      "ответ\n",
      "\n",
      "[документ найден 🕵️‍]\n",
      "\n",
      "mongodb, это nosql база данных\n",
      "\n",
      "\n",
      "\n",
      "пример 2\n",
      "\n",
      "контекст\n",
      "\n",
      "документ 1 mongodb, это nosql база данных\n",
      "\n",
      "вопрос пользователя\n",
      "\n",
      "что такое Hadoop\n",
      "\n",
      "ответ\n",
      "\n",
      "[документ не найден 🤷‍]\n",
      "\n",
      "\n",
      "\n",
      "пример 3\n",
      "\n",
      "контекст\n",
      "\n",
      "документ 1 scala, это сильный статически типизированный высокоуровневый яп общего назначения, поддерживающий как ооп, так и фп\n",
      "\n",
      "вопрос пользователя\n",
      "\n",
      "кто использует api вконтакте\n",
      "\n",
      "ответ\n",
      "\n",
      "[документ не найден 🤷‍]\n",
      "\n",
      "\n",
      "\n",
      "\n",
      "\n",
      "контекст\n",
      "\n",
      "Документ 1:\n",
      "глаза описываются шестью точками. вычислив расстояние между ними, можно определить моргнул человек или нет: если состояние глаза стремится к нулю, то глаз закрыт, если состояние глаза больше заданного порога, то глаз открыт.\n",
      "\n",
      "Документ 2:\n",
      "с использованием компьютерного зрения можно реализовать программное обеспечение, которое будет фиксировать моргание. Данное программное обеспечение можно использовать для дополнительного этапа защиты перед распознаванием лица, таким образом можно отличить снимок от настоящего человека.\n",
      "\n",
      "Документ 3:\n",
      "детектор лицевых ориентиров, который реализован внутри dlib, выдает 68 точек, которые отображаются на конкретных областях лица. Эти точечные отображения были получены путем обучения предиктора на наборе данных iBUG 300-W.\n",
      "\n",
      "\n",
      "\n",
      "\n",
      "вопрос пользователя\n",
      "\n",
      "Как определить моргания глаза\n",
      "\n",
      "\n",
      "\n",
      "думай и отвечай только на русском языке информацией из документ из контекст. пиши кратко в 3 предложения\n",
      "\n",
      "ответ:\n"
     ]
    }
   ],
   "execution_count": 28
  },
  {
   "metadata": {
    "ExecuteTime": {
     "end_time": "2025-03-23T15:12:15.692801Z",
     "start_time": "2025-03-23T15:12:15.682118Z"
    }
   },
   "cell_type": "code",
   "source": "result[len(rag_prompt_formatted):]",
   "id": "444f738c04c3eb03",
   "outputs": [
    {
     "data": {
      "text/plain": [
       "'\\nответ: [\\n\\nдокумент найден 🕵️\\n\\n]\\n</think>\\n\\n[документ найден 🕵️]  \\nИз предоставленного контекста видно, что моргание глаза может быть определено через анализ позиции шести точек глаз. Если расстояние между ними стремится к нулю, глаза закрыты; при значении выше определенного порога — открыты.'"
      ]
     },
     "execution_count": 26,
     "metadata": {},
     "output_type": "execute_result"
    }
   ],
   "execution_count": 26
  },
  {
   "metadata": {
    "ExecuteTime": {
     "end_time": "2025-03-23T15:11:28.564587Z",
     "start_time": "2025-03-23T15:11:28.555065Z"
    }
   },
   "cell_type": "code",
   "source": "result[result.find(\"</think>\") + 9:]",
   "id": "c6fbdbbc4de797ca",
   "outputs": [
    {
     "data": {
      "text/plain": [
       "'\\n[документ найден 🕵️]  \\nИз предоставленного контекста видно, что моргание глаза может быть определено через анализ позиции шести точек глаз. Если расстояние между ними стремится к нулю, глаза закрыты; при значении выше определенного порога — открыты.'"
      ]
     },
     "execution_count": 25,
     "metadata": {},
     "output_type": "execute_result"
    }
   ],
   "execution_count": 25
  },
  {
   "metadata": {
    "ExecuteTime": {
     "end_time": "2025-03-23T15:15:07.766989Z",
     "start_time": "2025-03-23T15:15:06.908243Z"
    }
   },
   "cell_type": "code",
   "source": [
    "# Освобождение VRAM после использования DeepSeek\n",
    "del model\n",
    "del tokenizer\n",
    "del text_generation_pipeline\n",
    "del llm\n",
    "\n",
    "gc.collect()  # Принудительный сбор мусора\n",
    "torch.cuda.empty_cache()  # Очищаем кэш VRAM"
   ],
   "id": "b363d3c68275647",
   "outputs": [],
   "execution_count": 29
  },
  {
   "metadata": {},
   "cell_type": "code",
   "outputs": [],
   "execution_count": null,
   "source": "",
   "id": "a01df48ac4f79f57"
  }
 ],
 "metadata": {
  "kernelspec": {
   "name": "python3",
   "language": "python",
   "display_name": "Python 3 (ipykernel)"
  }
 },
 "nbformat": 5,
 "nbformat_minor": 9
}
